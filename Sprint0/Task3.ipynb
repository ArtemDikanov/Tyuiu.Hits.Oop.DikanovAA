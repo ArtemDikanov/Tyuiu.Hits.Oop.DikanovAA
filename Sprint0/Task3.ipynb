{
 "cells": [
  {
   "cell_type": "markdown",
   "metadata": {},
   "source": [
    "<h1 style=\"color:DodgerBlue\">Индивидальный проект</h1>"
   ]
  },
  {
   "cell_type": "markdown",
   "metadata": {},
   "source": [
    "<h2 style=\"color:DodgerBlue\">Название проекта:</h2>\n",
    "\n",
    "----\n",
    "\n",
    "### Вариант задания № 4\n"
   ]
  },
  {
   "cell_type": "markdown",
   "metadata": {},
   "source": [
    "<h2 style=\"color:DodgerBlue\">Описание проекта:</h2>\n",
    "\n",
    "----\n",
    "\n",
    "Проект на C#, представляющий собой отображение различных действий в интернет-магазине. В магазине продаются электроника, одежда и книги.\n"
   ]
  },
  {
   "cell_type": "markdown",
   "metadata": {},
   "source": [
    "<h2 style=\"color:DodgerBlue\">Реализация:</h2>\n",
    "\n",
    "----"
   ]
  },
  {
   "cell_type": "code",
   "execution_count": 14,
   "metadata": {
    "dotnet_interactive": {
     "language": "csharp"
    },
    "polyglot_notebook": {
     "kernelName": "csharp"
    }
   },
   "outputs": [
    {
     "name": "stdout",
     "output_type": "stream",
     "text": [
      "Магазин электроники:\n",
      "Название: MagicBook X16 Plus; Цена: 52236.9; Производитель: Honor\n",
      "\n",
      "Магазин одежды:\n",
      "Название: худи Casual; Цена: 1149.75; Производитель: Befree; Размер: 50\n",
      "\n",
      "Книжный магазин:\n",
      "Название: Мистер Мерседес; Цена: 254; Производитель: Ast; Автор: Стивен Кинг\n"
     ]
    }
   ],
   "source": [
    "public class Product\n",
    "{\n",
    "    private string _name;\n",
    "    private double _price;\n",
    "    private string _manufacturer;\n",
    "\n",
    "    public string Name\n",
    "    {\n",
    "        get { return _name; }\n",
    "        set { _name = value; }\n",
    "    }\n",
    "\n",
    "    public double Price\n",
    "    {\n",
    "        get { return _price; }\n",
    "        set { _price = value; }\n",
    "    }\n",
    "\n",
    "    public string Manufacturer\n",
    "    {\n",
    "        get { return _manufacturer; }\n",
    "        set { _manufacturer = value; }\n",
    "    }\n",
    "\n",
    "    public virtual string GetInfo()\n",
    "    {\n",
    "        return $\"Название: {Name}; Цена: {Price}; Производитель: {Manufacturer}\";\n",
    "    }\n",
    "\n",
    "    public virtual void Discount(double discountPercentage)\n",
    "    {\n",
    "        if (discountPercentage >= 0 && discountPercentage <= 100)\n",
    "        {\n",
    "            Price -= Price * (discountPercentage / 100);\n",
    "        }\n",
    "    }\n",
    "\n",
    "    public virtual void Display()\n",
    "    {\n",
    "        Console.WriteLine(GetInfo());\n",
    "    }\n",
    "\n",
    "}\n",
    "\n",
    "public class Electronics: Product\n",
    "{\n",
    "    private int _warrantyPeriod;\n",
    "\n",
    "    public int WarrantyPeriod\n",
    "    {\n",
    "        get { return _warrantyPeriod; }\n",
    "        set { _warrantyPeriod = value; }\n",
    "    }\n",
    "\n",
    "    public override void Discount(double discountPercentage)\n",
    "    {\n",
    "        if (2 <= WarrantyPeriod && WarrantyPeriod <= 5)\n",
    "        {\n",
    "            discountPercentage -= discountPercentage / 2;\n",
    "        }\n",
    "\n",
    "        if (WarrantyPeriod > 5)\n",
    "        {\n",
    "            discountPercentage -= discountPercentage / 1.5;\n",
    "        }\n",
    "\n",
    "        if (discountPercentage >= 0 && discountPercentage <= 100)\n",
    "        {\n",
    "            Price -= Price * (discountPercentage / 100);\n",
    "        }\n",
    "    }\n",
    "}\n",
    "\n",
    "public class Clothing: Product\n",
    "{\n",
    "    private double _size;\n",
    "\n",
    "    public double Size\n",
    "    {\n",
    "        get { return _size; }\n",
    "        set { _size = value; }\n",
    "    }\n",
    "\n",
    "    public override void Display()\n",
    "    {\n",
    "        Console.WriteLine($\"{GetInfo()}; Размер: {Size}\");\n",
    "    }\n",
    "\n",
    "}\n",
    "\n",
    "public class Books: Product\n",
    "{\n",
    "    private string _author;\n",
    "\n",
    "    public string Author\n",
    "    {\n",
    "        get { return _author; }\n",
    "        set { _author = value; }\n",
    "    }\n",
    "\n",
    "    public override string GetInfo()\n",
    "    {\n",
    "        return $\"Название: {Name}; Цена: {Price}; Производитель: {Manufacturer}; Автор: {Author}\";\n",
    "    }\n",
    "}\n",
    "\n",
    "Console.WriteLine(\"Магазин электроники:\");\n",
    "Electronics laptop = new Electronics();\n",
    "laptop.Name = \"MagicBook X16 Plus\";\n",
    "laptop.Price = 64490;\n",
    "laptop.Manufacturer = \"Honor\";\n",
    "laptop.WarrantyPeriod = 1;\n",
    "laptop.Discount(19);\n",
    "laptop.Display();\n",
    "Console.WriteLine();\n",
    "Console.WriteLine(\"Магазин одежды:\");\n",
    "Clothing hoody = new Clothing();\n",
    "hoody.Name = \"худи Casual\";\n",
    "hoody.Price = 4599;\n",
    "hoody.Manufacturer = \"Befree\";\n",
    "hoody.Size = 50;\n",
    "hoody.Discount(75);\n",
    "hoody.Display();\n",
    "Console.WriteLine();\n",
    "Console.WriteLine(\"Книжный магазин:\");\n",
    "Books detective = new Books();\n",
    "detective.Name = \"Мистер Мерседес\";\n",
    "detective.Price = 254;\n",
    "detective.Manufacturer = \"Ast\";\n",
    "detective.Author = \"Стивен Кинг\";\n",
    "detective.Discount(0);\n",
    "detective.Display();\n",
    "\n"
   ]
  }
 ],
 "metadata": {
  "kernelspec": {
   "display_name": ".NET (C#)",
   "language": "C#",
   "name": ".net-csharp"
  },
  "polyglot_notebook": {
   "kernelInfo": {
    "defaultKernelName": "csharp",
    "items": [
     {
      "aliases": [],
      "languageName": "csharp",
      "name": "csharp"
     }
    ]
   }
  }
 },
 "nbformat": 4,
 "nbformat_minor": 2
}

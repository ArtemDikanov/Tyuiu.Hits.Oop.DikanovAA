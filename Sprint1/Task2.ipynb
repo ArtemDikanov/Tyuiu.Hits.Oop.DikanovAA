{
 "cells": [
  {
   "cell_type": "markdown",
   "metadata": {},
   "source": [
    "<h1 style=\"color:DodgerBlue\">Создание экземпляров классов (объектов) и взаимодействие объектов между собой</h1>"
   ]
  },
  {
   "cell_type": "markdown",
   "metadata": {},
   "source": [
    "### Создание экземпляров классов (объектов)\n",
    "\n",
    "В C#, экземпляр класса создается с помощью оператора `new`, который выделяет память для нового объекта и вызывает конструктор класса для инициализации этого объекта. Конструктор — это специальный метод в классе, который имеет то же имя, что и класс, и используется для установки начального состояния объекта.\n",
    "\n",
    "#### Пример создания экземпляров классов Vehicle и Car\n",
    "\n",
    "```csharp\n",
    "Vehicle myVehicle = new Vehicle();\n",
    "Car myCar = new Car();\n",
    "```\n",
    "\n",
    "В этом примере создаются два объекта: один для класса `Vehicle` и другой для класса `Car`. Конструкторы этих классов будут автоматически вызваны при создании объектов.\n",
    "\n",
    "### Взаимодействие объектов между Собой\n",
    "\n",
    "Взаимодействие объектов между собой означает, что один объект может вызывать методы другого объекта или обращаться к его свойствам (если они доступны). Это позволяет объектам обмениваться информацией и координировать свои действия.\n",
    "\n",
    "#### Пример взаимодействия объектов\n",
    "\n",
    "```csharp\n",
    "myVehicle.Color = \"Red\";\n",
    "myVehicle.Speed = 60;\n",
    "\n",
    "myCar.Color = \"Blue\";\n",
    "myCar.FuelLevel = 100;\n",
    "myCar.Refuel(50); // Увеличиваем уровень топлива на 50\n",
    "```\n",
    "\n",
    "В этом примере мы устанавливаем свойства `Color` и `Speed` для объекта `myVehicle`, а также свойства `Color` и `FuelLevel` для объекта `myCar`. Затем мы вызываем метод `Refuel` у объекта `myCar`, чтобы увеличить его уровень топлива.\n",
    "\n",
    "### Закрепление правил использования модификаторов доступа\n",
    "\n",
    "Модификаторы доступа определяют уровень доступности членов класса из других частей кода. Важно правильно использовать модификаторы доступа для обеспечения безопасности и инкапсуляции данных.\n",
    "\n",
    "#### Примеры модификаторов доступа в классах Vehicle и Car\n",
    "\n",
    "```csharp\n",
    "public class Vehicle\n",
    "{\n",
    "    public string Color { get; set; } // public свойство\n",
    "    private int speed; // private поле\n",
    "\n",
    "    protected void SetSpeed(int value) // protected метод\n",
    "    {\n",
    "        speed = value;\n",
    "    }\n",
    "}\n",
    "\n",
    "public class Car : Vehicle\n",
    "{\n",
    "    private int fuelLevel; // private поле\n",
    "\n",
    "    public void Refuel(int amount) // public метод\n",
    "    {\n",
    "        fuelLevel += amount;\n",
    "    }\n",
    "\n",
    "    protected void CheckSpeedLimit() // protected метод\n",
    "    {\n",
    "        if (speed > 120)\n",
    "        {\n",
    "            Console.WriteLine(\"Превышен скоростной режим!\");\n",
    "        }\n",
    "    }\n",
    "}\n",
    "```\n",
    "\n",
    "В этом примере:\n",
    "- Свойство `Color` в классе `Vehicle` объявлено как `public`, что позволяет доступ к нему из любого места в коде.\n",
    "- Поле `speed` в классе `Vehicle` объявлено как `private`, что ограничивает доступ к нему только внутри класса `Vehicle`.\n",
    "- Метод `SetSpeed` в классе `Vehicle` объявлен как `protected`, что позволяет доступ к нему из класса `Vehicle` и его производных классов.\n",
    "- Поле `fuelLevel` в классе `Car` объявлено как `private`, ограничивая доступ к нему только внутри класса `Car`.\n",
    "- Методы `Refuel` и `CheckSpeedLimit` в классе `Car` демонстрируют использование модификаторов доступа для контроля над тем, как объекты могут взаимодействовать друг с другом.\n",
    "\n",
    "### Заключение\n",
    "\n",
    "Создание экземпляров классов и взаимодействие между объектами являются ключевыми аспектами объектно-ориентированного программирования в C#. Правильное использование модификаторов доступа обеспечивает безопасность данных и инкапсуляцию, позволяя разработчикам создавать более надежные и управляемые программы."
   ]
  },
  {
   "cell_type": "markdown",
   "metadata": {},
   "source": [
    "<h4 style=\"color:DodgerBlue\">Для проверки напишите пример кода на основе классов Car и Vehicle ниже в блоке:</h4>\n",
    "\n",
    "----"
   ]
  },
  {
   "cell_type": "code",
   "execution_count": null,
   "metadata": {
    "dotnet_interactive": {
     "language": "csharp"
    },
    "polyglot_notebook": {
     "kernelName": "csharp"
    }
   },
   "outputs": [],
   "source": [
    "public class Vehicle\n",
    "{\n",
    "    public string Color { get; set; } \n",
    "    private int speed; \n",
    "\n",
    "    protected void SetSpeed(int value) \n",
    "    {\n",
    "        speed = value;\n",
    "    }\n",
    "}\n",
    "\n",
    "public class Car : Vehicle\n",
    "{\n",
    "    private int fuelLevel; \n",
    "\n",
    "    public void Refuel(int amount) \n",
    "    {\n",
    "        fuelLevel += amount;\n",
    "    }\n",
    "\n",
    "    protected void CheckSpeedLimit() \n",
    "        if (speed > 120)\n",
    "        {\n",
    "            Console.WriteLine(\"Превышен скоростной режим!\");\n",
    "        }\n",
    "    }\n",
    "}\n",
    "\n",
    "Vehicle myVehicle = new Vehicle();\n",
    "Car myCar = new Car();\n",
    "\n",
    "myVehicle.Color = \"Red\";\n",
    "myVehicle.Speed = 60;\n",
    "\n",
    "myCar.Color = \"Blue\";\n",
    "myCar.FuelLevel = 100;\n",
    "myCar.Refuel(50); "
   ]
  },
  {
   "cell_type": "markdown",
   "metadata": {},
   "source": [
    "<h4 style=\"color:Red\">Задание:</h4>\n",
    "\n",
    "----\n",
    "\n",
    "Ниже в блоке по примеру создайте базовый класс Animal и производные классы (2-3 например Dog, Cat и так далее) реализуйте структуру и объявление класса, включая свойства, геттеры и сеттеры, а также статические и обычными атрибуты и метода класса с реализацией взаимодействия между объектами."
   ]
  },
  {
   "cell_type": "code",
   "execution_count": 4,
   "metadata": {
    "dotnet_interactive": {
     "language": "csharp"
    },
    "polyglot_notebook": {
     "kernelName": "csharp"
    }
   },
   "outputs": [
    {
     "ename": "Error",
     "evalue": "(56,73): error CS1002: ; expected\r\n(59,76): error CS1002: ; expected",
     "output_type": "error",
     "traceback": [
      "(56,73): error CS1002: ; expected\r\n",
      "(59,76): error CS1002: ; expected"
     ]
    }
   ],
   "source": [
    "class Animal \n",
    "{\n",
    "    public string Name { get; set; } \n",
    "    public int TotalAnimals { get; set; } = 0;\n",
    "    public void DisplayTotalAnimals()\n",
    "    {\n",
    "        Console.WriteLine($\"Всего животных: {TotalAnimals}\");\n",
    "    }\n",
    "}\n",
    "\n",
    "class Cat: Animal\n",
    "{\n",
    "    private int _numberMeow;\n",
    "\n",
    "    public int NumberMeow\n",
    "    {\n",
    "        get { return _numberMeow; }\n",
    "        set { _numberMeow = value; }\n",
    "        \n",
    "    }\n",
    "\n",
    "    public void CountingMeow()\n",
    "    {\n",
    "        NumberMeow += 1;\n",
    "    }\n",
    "\n",
    "\n",
    "    public void featureCat() \n",
    "    {\n",
    "        Console.WriteLine(\"Кошки весьма эгоистичные животные.\");\n",
    "    }\n",
    "}\n",
    "\n",
    "class Dog: Animal\n",
    "{\n",
    "    private int _numberBones;\n",
    "\n",
    "    public int NumberBones\n",
    "    {\n",
    "        get { return _numberBones; }\n",
    "        set \n",
    "        { \n",
    "            if (_numberBones > 0) {\n",
    "                _numberBones = value;\n",
    "            }\n",
    "            else {\n",
    "                throw new ArgumentOutOfRangeException(\"Не верю! У собаки всегда должна быть косточка!\");\n",
    "            }\n",
    "        }\n",
    "    }\n",
    "\n",
    "\n",
    "    public void DogsSuccess()\n",
    "    {\n",
    "        if (NumberBones > 10) {\n",
    "            Console.WriteLine(\"Да у этой собаки целый тайник косточек!\")\n",
    "        }\n",
    "        if (NumberBones <= 10) {\n",
    "            Console.WriteLine(\"Эта собака не так любит грызть косточки...\")\n",
    "        }\n",
    "    }\n",
    "\n",
    "    public void featureDog() \n",
    "    {\n",
    "        Console.WriteLine(\"Собака искренне любит хозяина, и предана ему.\");\n",
    "    }\n",
    "}\n",
    "\n",
    "\n",
    "Animal myAnimal = new Animal();\n",
    "Cat myCat = new Cat();\n",
    "\n",
    "myAnimal.Name = \"Мурзик\";\n",
    "\n",
    "myCat.Name = \"Васька\";\n",
    "\n",
    "myCat.TotalAnimals = 5; \n",
    "myCat.DisplayTotalAnimals();\n"
   ]
  }
 ],
 "metadata": {
  "kernelspec": {
   "display_name": ".NET (C#)",
   "language": "C#",
   "name": ".net-csharp"
  },
  "polyglot_notebook": {
   "kernelInfo": {
    "defaultKernelName": "csharp",
    "items": [
     {
      "aliases": [],
      "languageName": "csharp",
      "name": "csharp"
     }
    ]
   }
  }
 },
 "nbformat": 4,
 "nbformat_minor": 2
}
